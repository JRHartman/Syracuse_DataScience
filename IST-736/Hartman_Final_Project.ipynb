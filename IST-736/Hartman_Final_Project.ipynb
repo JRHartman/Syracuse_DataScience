{
 "cells": [
  {
   "cell_type": "code",
   "execution_count": 1,
   "metadata": {},
   "outputs": [],
   "source": [
    "# Import relevant packages\n",
    "import pandas as pd\n",
    "import matplotlib.pyplot as plt\n",
    "import numpy as np\n",
    "import emoji as em\n",
    "import regex as  re\n",
    "import itertools\n",
    "from collections import Counter\n",
    "from sklearn.model_selection import train_test_split\n",
    "from sklearn.feature_extraction.text import TfidfVectorizer, CountVectorizer\n",
    "from sklearn.decomposition import LatentDirichletAllocation \n",
    "from sklearn.svm import LinearSVC\n",
    "from sklearn.metrics import confusion_matrix\n",
    "from sklearn.metrics import classification_report"
   ]
  },
  {
   "cell_type": "code",
   "execution_count": 2,
   "metadata": {},
   "outputs": [
    {
     "data": {
      "text/html": [
       "<div>\n",
       "<style scoped>\n",
       "    .dataframe tbody tr th:only-of-type {\n",
       "        vertical-align: middle;\n",
       "    }\n",
       "\n",
       "    .dataframe tbody tr th {\n",
       "        vertical-align: top;\n",
       "    }\n",
       "\n",
       "    .dataframe thead th {\n",
       "        text-align: right;\n",
       "    }\n",
       "</style>\n",
       "<table border=\"1\" class=\"dataframe\">\n",
       "  <thead>\n",
       "    <tr style=\"text-align: right;\">\n",
       "      <th></th>\n",
       "      <th>Name</th>\n",
       "      <th>Gender</th>\n",
       "      <th>Age</th>\n",
       "      <th>height</th>\n",
       "      <th>Ethnicity</th>\n",
       "      <th>Opener</th>\n",
       "      <th>Pros</th>\n",
       "      <th>Cons</th>\n",
       "      <th>Likes</th>\n",
       "      <th>Comments</th>\n",
       "      <th>Reaction</th>\n",
       "      <th>Class</th>\n",
       "    </tr>\n",
       "  </thead>\n",
       "  <tbody>\n",
       "    <tr>\n",
       "      <th>0</th>\n",
       "      <td>Scott Miketa</td>\n",
       "      <td>Male</td>\n",
       "      <td>22</td>\n",
       "      <td>70</td>\n",
       "      <td>Japanese</td>\n",
       "      <td>🍆 ATTENTION MEN OF SAD!!!!! 🍆 If you like your...</td>\n",
       "      <td>🍆He likes to go out and party🍾🍾🍾🍾\\n🍆 He has be...</td>\n",
       "      <td>🧟‍♂️Can’t study for more than 10 minutes witho...</td>\n",
       "      <td>657</td>\n",
       "      <td>828</td>\n",
       "      <td>742</td>\n",
       "      <td>Popular</td>\n",
       "    </tr>\n",
       "    <tr>\n",
       "      <th>1</th>\n",
       "      <td>Dana Wu</td>\n",
       "      <td>Female</td>\n",
       "      <td>21</td>\n",
       "      <td>64</td>\n",
       "      <td>Chinese</td>\n",
       "      <td>🚨🚨🚨ATTENTION NYC HOTTIES🚨🚨🚨\\nLOOKING👀👀👀👀 FOR A...</td>\n",
       "      <td>SECRETARY FOR VSA SO SHE SOCIAL AF\\n- CUTE AF\\...</td>\n",
       "      <td>WILL NEVER LOOK AS CUTE AS HER\\n-WILL BARELY B...</td>\n",
       "      <td>2125</td>\n",
       "      <td>1681</td>\n",
       "      <td>1903</td>\n",
       "      <td>Popular</td>\n",
       "    </tr>\n",
       "    <tr>\n",
       "      <th>2</th>\n",
       "      <td>Stephanie Pham</td>\n",
       "      <td>Female</td>\n",
       "      <td>24</td>\n",
       "      <td>64</td>\n",
       "      <td>Vietnamese</td>\n",
       "      <td>🔥🔥🔥OKAY LADIES AND GENTS, FEAST YOUR EYES ON T...</td>\n",
       "      <td>She's a pharmacist (smart cookie 🍪, and loaded...</td>\n",
       "      <td>This pharmacist can vaccinate, mess with her a...</td>\n",
       "      <td>2975</td>\n",
       "      <td>2667</td>\n",
       "      <td>2821</td>\n",
       "      <td>Popular</td>\n",
       "    </tr>\n",
       "    <tr>\n",
       "      <th>3</th>\n",
       "      <td>Niki</td>\n",
       "      <td>Female</td>\n",
       "      <td>26</td>\n",
       "      <td>62</td>\n",
       "      <td>Vietnamese</td>\n",
       "      <td>🌟🌟🌟 ATTENTION EVERYONE 🌟🌟🌟\\nY’all need to star...</td>\n",
       "      <td>❗️she knows how to cook\\n\\n❗️will quote new gi...</td>\n",
       "      <td>❌ hard to deal with - anxiety induced mood swi...</td>\n",
       "      <td>414</td>\n",
       "      <td>352</td>\n",
       "      <td>383</td>\n",
       "      <td>Not Popular</td>\n",
       "    </tr>\n",
       "    <tr>\n",
       "      <th>4</th>\n",
       "      <td>Michael Xiao</td>\n",
       "      <td>Male</td>\n",
       "      <td>20</td>\n",
       "      <td>75</td>\n",
       "      <td>Chinese</td>\n",
       "      <td>ARE YOU A ♥WOMAN ♥ WHO IS LIVING WITH THOSE DO...</td>\n",
       "      <td>🔺This tall glass 🥂 of Chinese lovin 💕 spent la...</td>\n",
       "      <td>🔻He is 😇WHOLESOME😇 but gives off fuckboi vibes...</td>\n",
       "      <td>185</td>\n",
       "      <td>178</td>\n",
       "      <td>182</td>\n",
       "      <td>Not Popular</td>\n",
       "    </tr>\n",
       "  </tbody>\n",
       "</table>\n",
       "</div>"
      ],
      "text/plain": [
       "             Name  Gender  Age  height   Ethnicity  \\\n",
       "0    Scott Miketa    Male   22      70    Japanese   \n",
       "1         Dana Wu  Female   21      64     Chinese   \n",
       "2  Stephanie Pham  Female   24      64  Vietnamese   \n",
       "3            Niki  Female   26      62  Vietnamese   \n",
       "4    Michael Xiao    Male   20      75     Chinese   \n",
       "\n",
       "                                              Opener  \\\n",
       "0  🍆 ATTENTION MEN OF SAD!!!!! 🍆 If you like your...   \n",
       "1  🚨🚨🚨ATTENTION NYC HOTTIES🚨🚨🚨\\nLOOKING👀👀👀👀 FOR A...   \n",
       "2  🔥🔥🔥OKAY LADIES AND GENTS, FEAST YOUR EYES ON T...   \n",
       "3  🌟🌟🌟 ATTENTION EVERYONE 🌟🌟🌟\\nY’all need to star...   \n",
       "4  ARE YOU A ♥WOMAN ♥ WHO IS LIVING WITH THOSE DO...   \n",
       "\n",
       "                                                Pros  \\\n",
       "0  🍆He likes to go out and party🍾🍾🍾🍾\\n🍆 He has be...   \n",
       "1  SECRETARY FOR VSA SO SHE SOCIAL AF\\n- CUTE AF\\...   \n",
       "2  She's a pharmacist (smart cookie 🍪, and loaded...   \n",
       "3  ❗️she knows how to cook\\n\\n❗️will quote new gi...   \n",
       "4  🔺This tall glass 🥂 of Chinese lovin 💕 spent la...   \n",
       "\n",
       "                                                Cons  Likes  Comments  \\\n",
       "0  🧟‍♂️Can’t study for more than 10 minutes witho...    657       828   \n",
       "1  WILL NEVER LOOK AS CUTE AS HER\\n-WILL BARELY B...   2125      1681   \n",
       "2  This pharmacist can vaccinate, mess with her a...   2975      2667   \n",
       "3  ❌ hard to deal with - anxiety induced mood swi...    414       352   \n",
       "4  🔻He is 😇WHOLESOME😇 but gives off fuckboi vibes...    185       178   \n",
       "\n",
       "   Reaction        Class  \n",
       "0       742      Popular  \n",
       "1      1903      Popular  \n",
       "2      2821      Popular  \n",
       "3       383  Not Popular  \n",
       "4       182  Not Popular  "
      ]
     },
     "execution_count": 2,
     "metadata": {},
     "output_type": "execute_result"
    }
   ],
   "source": [
    "# Imports the data and separates it into its dependent and independent variables\n",
    "sad=pd.read_excel('SADdata.xlsx')\n",
    "sad['Reaction'] = sad.apply(lambda x: round((x['Likes'] + x['Comments'])/2), axis=1)\n",
    "sad['Class'] = pd.qcut(sad['Reaction'], 2, labels=['Not Popular', 'Popular'])\n",
    "#sad['Class'] = np.where(sad['Reaction'] >= round(np.mean(sad['Reaction'])), 'Popular', 'Not Popular')\n",
    "sad.head()"
   ]
  },
  {
   "cell_type": "code",
   "execution_count": 3,
   "metadata": {},
   "outputs": [
    {
     "data": {
      "text/plain": [
       "Text(0.5, 0, 'Age')"
      ]
     },
     "execution_count": 3,
     "metadata": {},
     "output_type": "execute_result"
    },
    {
     "data": {
      "image/png": "[encoded data removed]",
      "text/plain": [
       "<Figure size 432x288 with 1 Axes>"
      ]
     },
     "metadata": {
      "needs_background": "light"
     },
     "output_type": "display_data"
    }
   ],
   "source": [
    "sad['Age'].plot.hist(bins = 10, rwidth = 0.9)\n",
    "plt.title('Subtle Asian Dating Age Distribution')\n",
    "plt.ylabel('Number of Profiles')\n",
    "plt.xlabel('Age')"
   ]
  },
  {
   "cell_type": "code",
   "execution_count": 4,
   "metadata": {},
   "outputs": [
    {
     "data": {
      "text/plain": [
       "<matplotlib.axes._subplots.AxesSubplot at 0x1e8353d6198>"
      ]
     },
     "execution_count": 4,
     "metadata": {},
     "output_type": "execute_result"
    },
    {
     "data": {
      "image/png": "[encoded data removed]",
      "text/plain": [
       "<Figure size 432x288 with 1 Axes>"
      ]
     },
     "metadata": {
      "needs_background": "light"
     },
     "output_type": "display_data"
    }
   ],
   "source": [
    "sad['Gender'].value_counts().plot('barh')"
   ]
  },
  {
   "cell_type": "code",
   "execution_count": 5,
   "metadata": {},
   "outputs": [
    {
     "data": {
      "text/plain": [
       "<matplotlib.axes._subplots.AxesSubplot at 0x1e835435fd0>"
      ]
     },
     "execution_count": 5,
     "metadata": {},
     "output_type": "execute_result"
    },
    {
     "data": {
      "image/png": "[encoded data removed]",
      "text/plain": [
       "<Figure size 432x288 with 1 Axes>"
      ]
     },
     "metadata": {
      "needs_background": "light"
     },
     "output_type": "display_data"
    }
   ],
   "source": [
    "sad['Ethnicity'].value_counts().plot('barh')"
   ]
  },
  {
   "cell_type": "code",
   "execution_count": 6,
   "metadata": {},
   "outputs": [
    {
     "data": {
      "text/plain": [
       "Text(0.5, 0, 'Height in Inches')"
      ]
     },
     "execution_count": 6,
     "metadata": {},
     "output_type": "execute_result"
    },
    {
     "data": {
      "image/png": "[encoded data removed]",
      "text/plain": [
       "<Figure size 432x288 with 1 Axes>"
      ]
     },
     "metadata": {
      "needs_background": "light"
     },
     "output_type": "display_data"
    }
   ],
   "source": [
    "sad['height'][sad.Gender == 'Male'].plot.hist(bins = 12, rwidth = 0.9)\n",
    "plt.title('Subtle Asian Dating Height Distribution: Male')\n",
    "plt.ylabel('Number of Profiles')\n",
    "plt.xlabel('Height in Inches')"
   ]
  },
  {
   "cell_type": "code",
   "execution_count": 7,
   "metadata": {},
   "outputs": [
    {
     "data": {
      "text/plain": [
       "Text(0.5, 0, 'Height in Inches')"
      ]
     },
     "execution_count": 7,
     "metadata": {},
     "output_type": "execute_result"
    },
    {
     "data": {
      "image/png": "[encoded data removed]",
      "text/plain": [
       "<Figure size 432x288 with 1 Axes>"
      ]
     },
     "metadata": {
      "needs_background": "light"
     },
     "output_type": "display_data"
    }
   ],
   "source": [
    "sad['height'][sad.Gender == 'Female'].plot.hist(bins = 12, rwidth = 0.9)\n",
    "plt.title('Subtle Asian Dating Height Distribution: Female')\n",
    "plt.ylabel('Number of Profiles')\n",
    "plt.xlabel('Height in Inches')"
   ]
  },
  {
   "cell_type": "code",
   "execution_count": 8,
   "metadata": {},
   "outputs": [
    {
     "data": {
      "text/plain": [
       "Text(0.5, 0, 'Reaction Score')"
      ]
     },
     "execution_count": 8,
     "metadata": {},
     "output_type": "execute_result"
    },
    {
     "data": {
      "image/png": "[encoded data removed]",
      "text/plain": [
       "<Figure size 432x288 with 1 Axes>"
      ]
     },
     "metadata": {
      "needs_background": "light"
     },
     "output_type": "display_data"
    }
   ],
   "source": [
    "sad['Reaction'].plot.hist(bins = 10, rwidth = 0.9)\n",
    "plt.title('Subtle Asian Dating Reaction Distribution')\n",
    "plt.ylabel('Number of Profiles')\n",
    "plt.xlabel('Reaction Score')"
   ]
  },
  {
   "cell_type": "code",
   "execution_count": 9,
   "metadata": {},
   "outputs": [],
   "source": [
    "# some rudimentary data cleaning\n",
    "sad['Opener'] = sad['Opener'].str.replace('-',\"\")\n",
    "sad['Pros'] = sad['Pros'].str.replace('-',\"\")\n",
    "sad['Cons'] = sad['Cons'].str.replace('-',\"\")\n",
    "sad['Opener'] = sad['Opener'].str.replace('\\n',\" \")\n",
    "sad['Pros'] = sad['Pros'].str.replace('\\n',\" \")\n",
    "sad['Cons'] = sad['Cons'].str.replace('\\n',\" \")"
   ]
  },
  {
   "cell_type": "code",
   "execution_count": 10,
   "metadata": {},
   "outputs": [],
   "source": [
    "# Define a function to move emojis into a separate list\n",
    "def split_count(text):\n",
    "\n",
    "    emoji_list = []\n",
    "    data = re.findall(r'\\X', text)\n",
    "    flags = re.findall(u'[\\U0001F1E6-\\U0001F1FF]', text) \n",
    "    for word in data:\n",
    "        if any(char in em.UNICODE_EMOJI for char in word):\n",
    "            emoji_list.append(word)\n",
    "\n",
    "    return emoji_list + flags"
   ]
  },
  {
   "cell_type": "code",
   "execution_count": 11,
   "metadata": {},
   "outputs": [],
   "source": [
    "emojis_opener = [x for x in sad['Opener'].apply(split_count).tolist() if x != []]\n",
    "emojis_opener = list(itertools.chain(*emojis_opener))\n",
    "emojis_pros = [x for x in sad['Pros'].apply(split_count).tolist() if x != []]\n",
    "emojis_pros = list(itertools.chain(*emojis_pros))\n",
    "emojis_cons = [x for x in sad['Cons'].apply(split_count).tolist() if x != []]\n",
    "emojis_cons = list(itertools.chain(*emojis_cons))"
   ]
  },
  {
   "cell_type": "code",
   "execution_count": 12,
   "metadata": {},
   "outputs": [
    {
     "data": {
      "text/html": [
       "<div>\n",
       "<style scoped>\n",
       "    .dataframe tbody tr th:only-of-type {\n",
       "        vertical-align: middle;\n",
       "    }\n",
       "\n",
       "    .dataframe tbody tr th {\n",
       "        vertical-align: top;\n",
       "    }\n",
       "\n",
       "    .dataframe thead th {\n",
       "        text-align: right;\n",
       "    }\n",
       "</style>\n",
       "<table border=\"1\" class=\"dataframe\">\n",
       "  <thead>\n",
       "    <tr style=\"text-align: right;\">\n",
       "      <th></th>\n",
       "      <th>Emoji: Openers</th>\n",
       "      <th>Count</th>\n",
       "    </tr>\n",
       "  </thead>\n",
       "  <tbody>\n",
       "    <tr>\n",
       "      <th>0</th>\n",
       "      <td>🔥</td>\n",
       "      <td>68</td>\n",
       "    </tr>\n",
       "    <tr>\n",
       "      <th>1</th>\n",
       "      <td>‼️</td>\n",
       "      <td>66</td>\n",
       "    </tr>\n",
       "    <tr>\n",
       "      <th>2</th>\n",
       "      <td>🚨</td>\n",
       "      <td>57</td>\n",
       "    </tr>\n",
       "    <tr>\n",
       "      <th>3</th>\n",
       "      <td>📣</td>\n",
       "      <td>34</td>\n",
       "    </tr>\n",
       "    <tr>\n",
       "      <th>4</th>\n",
       "      <td>💦</td>\n",
       "      <td>30</td>\n",
       "    </tr>\n",
       "    <tr>\n",
       "      <th>5</th>\n",
       "      <td>❗️</td>\n",
       "      <td>27</td>\n",
       "    </tr>\n",
       "    <tr>\n",
       "      <th>6</th>\n",
       "      <td>⚠️</td>\n",
       "      <td>20</td>\n",
       "    </tr>\n",
       "    <tr>\n",
       "      <th>7</th>\n",
       "      <td>💥</td>\n",
       "      <td>20</td>\n",
       "    </tr>\n",
       "    <tr>\n",
       "      <th>8</th>\n",
       "      <td>👀</td>\n",
       "      <td>19</td>\n",
       "    </tr>\n",
       "    <tr>\n",
       "      <th>9</th>\n",
       "      <td>😱</td>\n",
       "      <td>18</td>\n",
       "    </tr>\n",
       "  </tbody>\n",
       "</table>\n",
       "</div>"
      ],
      "text/plain": [
       "  Emoji: Openers  Count\n",
       "0              🔥     68\n",
       "1             ‼️     66\n",
       "2              🚨     57\n",
       "3              📣     34\n",
       "4              💦     30\n",
       "5             ❗️     27\n",
       "6             ⚠️     20\n",
       "7              💥     20\n",
       "8              👀     19\n",
       "9              😱     18"
      ]
     },
     "execution_count": 12,
     "metadata": {},
     "output_type": "execute_result"
    }
   ],
   "source": [
    "c = Counter(emojis_opener).most_common()[:10]\n",
    "pd.DataFrame(c, columns = ['Emoji: Openers', 'Count'])"
   ]
  },
  {
   "cell_type": "code",
   "execution_count": 13,
   "metadata": {},
   "outputs": [
    {
     "data": {
      "text/html": [
       "<div>\n",
       "<style scoped>\n",
       "    .dataframe tbody tr th:only-of-type {\n",
       "        vertical-align: middle;\n",
       "    }\n",
       "\n",
       "    .dataframe tbody tr th {\n",
       "        vertical-align: top;\n",
       "    }\n",
       "\n",
       "    .dataframe thead th {\n",
       "        text-align: right;\n",
       "    }\n",
       "</style>\n",
       "<table border=\"1\" class=\"dataframe\">\n",
       "  <thead>\n",
       "    <tr style=\"text-align: right;\">\n",
       "      <th></th>\n",
       "      <th>Emoji: Openers</th>\n",
       "      <th>Count</th>\n",
       "    </tr>\n",
       "  </thead>\n",
       "  <tbody>\n",
       "    <tr>\n",
       "      <th>0</th>\n",
       "      <td>🚨</td>\n",
       "      <td>35</td>\n",
       "    </tr>\n",
       "    <tr>\n",
       "      <th>1</th>\n",
       "      <td>📣</td>\n",
       "      <td>32</td>\n",
       "    </tr>\n",
       "    <tr>\n",
       "      <th>2</th>\n",
       "      <td>🔥</td>\n",
       "      <td>29</td>\n",
       "    </tr>\n",
       "    <tr>\n",
       "      <th>3</th>\n",
       "      <td>‼️</td>\n",
       "      <td>27</td>\n",
       "    </tr>\n",
       "    <tr>\n",
       "      <th>4</th>\n",
       "      <td>😵</td>\n",
       "      <td>17</td>\n",
       "    </tr>\n",
       "    <tr>\n",
       "      <th>5</th>\n",
       "      <td>👀</td>\n",
       "      <td>13</td>\n",
       "    </tr>\n",
       "    <tr>\n",
       "      <th>6</th>\n",
       "      <td>⚠️</td>\n",
       "      <td>10</td>\n",
       "    </tr>\n",
       "    <tr>\n",
       "      <th>7</th>\n",
       "      <td>❗️</td>\n",
       "      <td>9</td>\n",
       "    </tr>\n",
       "    <tr>\n",
       "      <th>8</th>\n",
       "      <td>💦</td>\n",
       "      <td>8</td>\n",
       "    </tr>\n",
       "    <tr>\n",
       "      <th>9</th>\n",
       "      <td>🌟</td>\n",
       "      <td>8</td>\n",
       "    </tr>\n",
       "  </tbody>\n",
       "</table>\n",
       "</div>"
      ],
      "text/plain": [
       "  Emoji: Openers  Count\n",
       "0              🚨     35\n",
       "1              📣     32\n",
       "2              🔥     29\n",
       "3             ‼️     27\n",
       "4              😵     17\n",
       "5              👀     13\n",
       "6             ⚠️     10\n",
       "7             ❗️      9\n",
       "8              💦      8\n",
       "9              🌟      8"
      ]
     },
     "execution_count": 13,
     "metadata": {},
     "output_type": "execute_result"
    }
   ],
   "source": [
    "emojis_opener = [x for x in sad['Opener'][sad['Class'] == 'Popular'].apply(split_count).tolist() if x != []]\n",
    "emojis_opener = list(itertools.chain(*emojis_opener))\n",
    "c = Counter(emojis_opener).most_common()[:10]\n",
    "pd.DataFrame(c, columns = ['Emoji: Openers', 'Count'])"
   ]
  },
  {
   "cell_type": "code",
   "execution_count": 14,
   "metadata": {},
   "outputs": [
    {
     "data": {
      "text/html": [
       "<div>\n",
       "<style scoped>\n",
       "    .dataframe tbody tr th:only-of-type {\n",
       "        vertical-align: middle;\n",
       "    }\n",
       "\n",
       "    .dataframe tbody tr th {\n",
       "        vertical-align: top;\n",
       "    }\n",
       "\n",
       "    .dataframe thead th {\n",
       "        text-align: right;\n",
       "    }\n",
       "</style>\n",
       "<table border=\"1\" class=\"dataframe\">\n",
       "  <thead>\n",
       "    <tr style=\"text-align: right;\">\n",
       "      <th></th>\n",
       "      <th>Emoji: Pros</th>\n",
       "      <th>Count</th>\n",
       "    </tr>\n",
       "  </thead>\n",
       "  <tbody>\n",
       "    <tr>\n",
       "      <th>0</th>\n",
       "      <td>✅</td>\n",
       "      <td>76</td>\n",
       "    </tr>\n",
       "    <tr>\n",
       "      <th>1</th>\n",
       "      <td>😉</td>\n",
       "      <td>55</td>\n",
       "    </tr>\n",
       "    <tr>\n",
       "      <th>2</th>\n",
       "      <td>🍆</td>\n",
       "      <td>47</td>\n",
       "    </tr>\n",
       "    <tr>\n",
       "      <th>3</th>\n",
       "      <td>💦</td>\n",
       "      <td>47</td>\n",
       "    </tr>\n",
       "    <tr>\n",
       "      <th>4</th>\n",
       "      <td>💸</td>\n",
       "      <td>45</td>\n",
       "    </tr>\n",
       "    <tr>\n",
       "      <th>5</th>\n",
       "      <td>➕</td>\n",
       "      <td>45</td>\n",
       "    </tr>\n",
       "    <tr>\n",
       "      <th>6</th>\n",
       "      <td>✔️</td>\n",
       "      <td>40</td>\n",
       "    </tr>\n",
       "    <tr>\n",
       "      <th>7</th>\n",
       "      <td>❣️</td>\n",
       "      <td>39</td>\n",
       "    </tr>\n",
       "    <tr>\n",
       "      <th>8</th>\n",
       "      <td>😍</td>\n",
       "      <td>34</td>\n",
       "    </tr>\n",
       "    <tr>\n",
       "      <th>9</th>\n",
       "      <td>❤️</td>\n",
       "      <td>31</td>\n",
       "    </tr>\n",
       "  </tbody>\n",
       "</table>\n",
       "</div>"
      ],
      "text/plain": [
       "  Emoji: Pros  Count\n",
       "0           ✅     76\n",
       "1           😉     55\n",
       "2           🍆     47\n",
       "3           💦     47\n",
       "4           💸     45\n",
       "5           ➕     45\n",
       "6          ✔️     40\n",
       "7          ❣️     39\n",
       "8           😍     34\n",
       "9          ❤️     31"
      ]
     },
     "execution_count": 14,
     "metadata": {},
     "output_type": "execute_result"
    }
   ],
   "source": [
    "c = Counter(emojis_pros).most_common()[:10]\n",
    "pd.DataFrame(c, columns = ['Emoji: Pros', 'Count'])"
   ]
  },
  {
   "cell_type": "code",
   "execution_count": 15,
   "metadata": {},
   "outputs": [
    {
     "data": {
      "text/html": [
       "<div>\n",
       "<style scoped>\n",
       "    .dataframe tbody tr th:only-of-type {\n",
       "        vertical-align: middle;\n",
       "    }\n",
       "\n",
       "    .dataframe tbody tr th {\n",
       "        vertical-align: top;\n",
       "    }\n",
       "\n",
       "    .dataframe thead th {\n",
       "        text-align: right;\n",
       "    }\n",
       "</style>\n",
       "<table border=\"1\" class=\"dataframe\">\n",
       "  <thead>\n",
       "    <tr style=\"text-align: right;\">\n",
       "      <th></th>\n",
       "      <th>Emoji: Pros</th>\n",
       "      <th>Count</th>\n",
       "    </tr>\n",
       "  </thead>\n",
       "  <tbody>\n",
       "    <tr>\n",
       "      <th>0</th>\n",
       "      <td>✅</td>\n",
       "      <td>57</td>\n",
       "    </tr>\n",
       "    <tr>\n",
       "      <th>1</th>\n",
       "      <td>😉</td>\n",
       "      <td>42</td>\n",
       "    </tr>\n",
       "    <tr>\n",
       "      <th>2</th>\n",
       "      <td>❣️</td>\n",
       "      <td>30</td>\n",
       "    </tr>\n",
       "    <tr>\n",
       "      <th>3</th>\n",
       "      <td>💦</td>\n",
       "      <td>27</td>\n",
       "    </tr>\n",
       "    <tr>\n",
       "      <th>4</th>\n",
       "      <td>🍆</td>\n",
       "      <td>25</td>\n",
       "    </tr>\n",
       "    <tr>\n",
       "      <th>5</th>\n",
       "      <td>💸</td>\n",
       "      <td>24</td>\n",
       "    </tr>\n",
       "    <tr>\n",
       "      <th>6</th>\n",
       "      <td>✔</td>\n",
       "      <td>18</td>\n",
       "    </tr>\n",
       "    <tr>\n",
       "      <th>7</th>\n",
       "      <td>❤️</td>\n",
       "      <td>17</td>\n",
       "    </tr>\n",
       "    <tr>\n",
       "      <th>8</th>\n",
       "      <td>😍</td>\n",
       "      <td>14</td>\n",
       "    </tr>\n",
       "    <tr>\n",
       "      <th>9</th>\n",
       "      <td>👅</td>\n",
       "      <td>12</td>\n",
       "    </tr>\n",
       "  </tbody>\n",
       "</table>\n",
       "</div>"
      ],
      "text/plain": [
       "  Emoji: Pros  Count\n",
       "0           ✅     57\n",
       "1           😉     42\n",
       "2          ❣️     30\n",
       "3           💦     27\n",
       "4           🍆     25\n",
       "5           💸     24\n",
       "6           ✔     18\n",
       "7          ❤️     17\n",
       "8           😍     14\n",
       "9           👅     12"
      ]
     },
     "execution_count": 15,
     "metadata": {},
     "output_type": "execute_result"
    }
   ],
   "source": [
    "emojis_pros = [x for x in sad['Pros'][sad['Class'] == 'Popular'].apply(split_count).tolist() if x != []]\n",
    "emojis_pros = list(itertools.chain(*emojis_pros))\n",
    "c = Counter(emojis_pros).most_common()[:10]\n",
    "pd.DataFrame(c, columns = ['Emoji: Pros', 'Count'])"
   ]
  },
  {
   "cell_type": "code",
   "execution_count": 16,
   "metadata": {},
   "outputs": [
    {
     "data": {
      "text/html": [
       "<div>\n",
       "<style scoped>\n",
       "    .dataframe tbody tr th:only-of-type {\n",
       "        vertical-align: middle;\n",
       "    }\n",
       "\n",
       "    .dataframe tbody tr th {\n",
       "        vertical-align: top;\n",
       "    }\n",
       "\n",
       "    .dataframe thead th {\n",
       "        text-align: right;\n",
       "    }\n",
       "</style>\n",
       "<table border=\"1\" class=\"dataframe\">\n",
       "  <thead>\n",
       "    <tr style=\"text-align: right;\">\n",
       "      <th></th>\n",
       "      <th>Emoji: Cons</th>\n",
       "      <th>Count</th>\n",
       "    </tr>\n",
       "  </thead>\n",
       "  <tbody>\n",
       "    <tr>\n",
       "      <th>0</th>\n",
       "      <td>❌</td>\n",
       "      <td>79</td>\n",
       "    </tr>\n",
       "    <tr>\n",
       "      <th>1</th>\n",
       "      <td>➖</td>\n",
       "      <td>25</td>\n",
       "    </tr>\n",
       "    <tr>\n",
       "      <th>2</th>\n",
       "      <td>😏</td>\n",
       "      <td>15</td>\n",
       "    </tr>\n",
       "    <tr>\n",
       "      <th>3</th>\n",
       "      <td>🚫</td>\n",
       "      <td>14</td>\n",
       "    </tr>\n",
       "    <tr>\n",
       "      <th>4</th>\n",
       "      <td>💩</td>\n",
       "      <td>14</td>\n",
       "    </tr>\n",
       "    <tr>\n",
       "      <th>5</th>\n",
       "      <td>☄️</td>\n",
       "      <td>14</td>\n",
       "    </tr>\n",
       "    <tr>\n",
       "      <th>6</th>\n",
       "      <td>💯</td>\n",
       "      <td>13</td>\n",
       "    </tr>\n",
       "    <tr>\n",
       "      <th>7</th>\n",
       "      <td>⚠️</td>\n",
       "      <td>13</td>\n",
       "    </tr>\n",
       "    <tr>\n",
       "      <th>8</th>\n",
       "      <td>🍆</td>\n",
       "      <td>12</td>\n",
       "    </tr>\n",
       "    <tr>\n",
       "      <th>9</th>\n",
       "      <td>🤦🏻‍♀️</td>\n",
       "      <td>11</td>\n",
       "    </tr>\n",
       "  </tbody>\n",
       "</table>\n",
       "</div>"
      ],
      "text/plain": [
       "  Emoji: Cons  Count\n",
       "0           ❌     79\n",
       "1           ➖     25\n",
       "2           😏     15\n",
       "3           🚫     14\n",
       "4           💩     14\n",
       "5          ☄️     14\n",
       "6           💯     13\n",
       "7          ⚠️     13\n",
       "8           🍆     12\n",
       "9       🤦🏻‍♀️     11"
      ]
     },
     "execution_count": 16,
     "metadata": {},
     "output_type": "execute_result"
    }
   ],
   "source": [
    "c = Counter(emojis_cons).most_common()[:10]\n",
    "pd.DataFrame(c, columns = ['Emoji: Cons', 'Count'])"
   ]
  },
  {
   "cell_type": "code",
   "execution_count": 17,
   "metadata": {},
   "outputs": [
    {
     "data": {
      "text/html": [
       "<div>\n",
       "<style scoped>\n",
       "    .dataframe tbody tr th:only-of-type {\n",
       "        vertical-align: middle;\n",
       "    }\n",
       "\n",
       "    .dataframe tbody tr th {\n",
       "        vertical-align: top;\n",
       "    }\n",
       "\n",
       "    .dataframe thead th {\n",
       "        text-align: right;\n",
       "    }\n",
       "</style>\n",
       "<table border=\"1\" class=\"dataframe\">\n",
       "  <thead>\n",
       "    <tr style=\"text-align: right;\">\n",
       "      <th></th>\n",
       "      <th>Emoji: Cons</th>\n",
       "      <th>Count</th>\n",
       "    </tr>\n",
       "  </thead>\n",
       "  <tbody>\n",
       "    <tr>\n",
       "      <th>0</th>\n",
       "      <td>❌</td>\n",
       "      <td>47</td>\n",
       "    </tr>\n",
       "    <tr>\n",
       "      <th>1</th>\n",
       "      <td>⚠️</td>\n",
       "      <td>13</td>\n",
       "    </tr>\n",
       "    <tr>\n",
       "      <th>2</th>\n",
       "      <td>🤦🏻‍♀️</td>\n",
       "      <td>10</td>\n",
       "    </tr>\n",
       "    <tr>\n",
       "      <th>3</th>\n",
       "      <td>🧟‍♂️</td>\n",
       "      <td>9</td>\n",
       "    </tr>\n",
       "    <tr>\n",
       "      <th>4</th>\n",
       "      <td>❣️</td>\n",
       "      <td>9</td>\n",
       "    </tr>\n",
       "    <tr>\n",
       "      <th>5</th>\n",
       "      <td>🤷🏻‍♀️</td>\n",
       "      <td>8</td>\n",
       "    </tr>\n",
       "    <tr>\n",
       "      <th>6</th>\n",
       "      <td>💯</td>\n",
       "      <td>8</td>\n",
       "    </tr>\n",
       "    <tr>\n",
       "      <th>7</th>\n",
       "      <td>🙊</td>\n",
       "      <td>7</td>\n",
       "    </tr>\n",
       "    <tr>\n",
       "      <th>8</th>\n",
       "      <td>✖</td>\n",
       "      <td>7</td>\n",
       "    </tr>\n",
       "    <tr>\n",
       "      <th>9</th>\n",
       "      <td>🤪</td>\n",
       "      <td>6</td>\n",
       "    </tr>\n",
       "  </tbody>\n",
       "</table>\n",
       "</div>"
      ],
      "text/plain": [
       "  Emoji: Cons  Count\n",
       "0           ❌     47\n",
       "1          ⚠️     13\n",
       "2       🤦🏻‍♀️     10\n",
       "3        🧟‍♂️      9\n",
       "4          ❣️      9\n",
       "5       🤷🏻‍♀️      8\n",
       "6           💯      8\n",
       "7           🙊      7\n",
       "8           ✖      7\n",
       "9           🤪      6"
      ]
     },
     "execution_count": 17,
     "metadata": {},
     "output_type": "execute_result"
    }
   ],
   "source": [
    "emojis_cons = [x for x in sad['Cons'][sad['Class'] == 'Popular'].apply(split_count).tolist() if x != []]\n",
    "emojis_cons = list(itertools.chain(*emojis_cons))\n",
    "c = Counter(emojis_cons).most_common()[:10]\n",
    "pd.DataFrame(c, columns = ['Emoji: Cons', 'Count'])"
   ]
  },
  {
   "cell_type": "code",
   "execution_count": 18,
   "metadata": {},
   "outputs": [
    {
     "data": {
      "text/html": [
       "<div>\n",
       "<style scoped>\n",
       "    .dataframe tbody tr th:only-of-type {\n",
       "        vertical-align: middle;\n",
       "    }\n",
       "\n",
       "    .dataframe tbody tr th {\n",
       "        vertical-align: top;\n",
       "    }\n",
       "\n",
       "    .dataframe thead th {\n",
       "        text-align: right;\n",
       "    }\n",
       "</style>\n",
       "<table border=\"1\" class=\"dataframe\">\n",
       "  <thead>\n",
       "    <tr style=\"text-align: right;\">\n",
       "      <th></th>\n",
       "      <th>Name</th>\n",
       "      <th>Gender</th>\n",
       "      <th>Age</th>\n",
       "      <th>height</th>\n",
       "      <th>Ethnicity</th>\n",
       "      <th>Opener</th>\n",
       "      <th>Pros</th>\n",
       "      <th>Cons</th>\n",
       "      <th>Likes</th>\n",
       "      <th>Comments</th>\n",
       "      <th>Reaction</th>\n",
       "      <th>Class</th>\n",
       "    </tr>\n",
       "  </thead>\n",
       "  <tbody>\n",
       "    <tr>\n",
       "      <th>0</th>\n",
       "      <td>Scott Miketa</td>\n",
       "      <td>Male</td>\n",
       "      <td>22</td>\n",
       "      <td>70</td>\n",
       "      <td>Japanese</td>\n",
       "      <td>ATTENTION MEN OF SAD  If you like your men ha...</td>\n",
       "      <td>He likes to go out and party  He has been on m...</td>\n",
       "      <td>Cant study for more than 10 minutes without ge...</td>\n",
       "      <td>657</td>\n",
       "      <td>828</td>\n",
       "      <td>742</td>\n",
       "      <td>Popular</td>\n",
       "    </tr>\n",
       "    <tr>\n",
       "      <th>1</th>\n",
       "      <td>Dana Wu</td>\n",
       "      <td>Female</td>\n",
       "      <td>21</td>\n",
       "      <td>64</td>\n",
       "      <td>Chinese</td>\n",
       "      <td>ATTENTION NYC HOTTIES LOOKING FOR A CUTE ASS W...</td>\n",
       "      <td>SECRETARY FOR VSA SO SHE SOCIAL AF  CUTE AF BI...</td>\n",
       "      <td>WILL NEVER LOOK AS CUTE AS HER WILL BARELY BEA...</td>\n",
       "      <td>2125</td>\n",
       "      <td>1681</td>\n",
       "      <td>1903</td>\n",
       "      <td>Popular</td>\n",
       "    </tr>\n",
       "    <tr>\n",
       "      <th>2</th>\n",
       "      <td>Stephanie Pham</td>\n",
       "      <td>Female</td>\n",
       "      <td>24</td>\n",
       "      <td>64</td>\n",
       "      <td>Vietnamese</td>\n",
       "      <td>OKAY LADIES AND GENTS FEAST YOUR EYES ON THE W...</td>\n",
       "      <td>She's a pharmacist smart cookie  and loaded  y...</td>\n",
       "      <td>This pharmacist can vaccinate mess with her an...</td>\n",
       "      <td>2975</td>\n",
       "      <td>2667</td>\n",
       "      <td>2821</td>\n",
       "      <td>Popular</td>\n",
       "    </tr>\n",
       "    <tr>\n",
       "      <th>3</th>\n",
       "      <td>Niki</td>\n",
       "      <td>Female</td>\n",
       "      <td>26</td>\n",
       "      <td>62</td>\n",
       "      <td>Vietnamese</td>\n",
       "      <td>ATTENTION EVERYONE  Yall need to start being ...</td>\n",
       "      <td>she knows how to cook  will quote new girl and...</td>\n",
       "      <td>hard to deal with  anxiety induced mood swing...</td>\n",
       "      <td>414</td>\n",
       "      <td>352</td>\n",
       "      <td>383</td>\n",
       "      <td>Not Popular</td>\n",
       "    </tr>\n",
       "    <tr>\n",
       "      <th>4</th>\n",
       "      <td>Michael Xiao</td>\n",
       "      <td>Male</td>\n",
       "      <td>20</td>\n",
       "      <td>75</td>\n",
       "      <td>Chinese</td>\n",
       "      <td>ARE YOU A WOMAN  WHO IS LIVING WITH THOSE DOUB...</td>\n",
       "      <td>This tall glass  of Chinese lovin  spent last ...</td>\n",
       "      <td>He is WHOLESOME but gives off fuckboi vibes ju...</td>\n",
       "      <td>185</td>\n",
       "      <td>178</td>\n",
       "      <td>182</td>\n",
       "      <td>Not Popular</td>\n",
       "    </tr>\n",
       "  </tbody>\n",
       "</table>\n",
       "</div>"
      ],
      "text/plain": [
       "             Name  Gender  Age  height   Ethnicity  \\\n",
       "0    Scott Miketa    Male   22      70    Japanese   \n",
       "1         Dana Wu  Female   21      64     Chinese   \n",
       "2  Stephanie Pham  Female   24      64  Vietnamese   \n",
       "3            Niki  Female   26      62  Vietnamese   \n",
       "4    Michael Xiao    Male   20      75     Chinese   \n",
       "\n",
       "                                              Opener  \\\n",
       "0   ATTENTION MEN OF SAD  If you like your men ha...   \n",
       "1  ATTENTION NYC HOTTIES LOOKING FOR A CUTE ASS W...   \n",
       "2  OKAY LADIES AND GENTS FEAST YOUR EYES ON THE W...   \n",
       "3   ATTENTION EVERYONE  Yall need to start being ...   \n",
       "4  ARE YOU A WOMAN  WHO IS LIVING WITH THOSE DOUB...   \n",
       "\n",
       "                                                Pros  \\\n",
       "0  He likes to go out and party  He has been on m...   \n",
       "1  SECRETARY FOR VSA SO SHE SOCIAL AF  CUTE AF BI...   \n",
       "2  She's a pharmacist smart cookie  and loaded  y...   \n",
       "3  she knows how to cook  will quote new girl and...   \n",
       "4  This tall glass  of Chinese lovin  spent last ...   \n",
       "\n",
       "                                                Cons  Likes  Comments  \\\n",
       "0  Cant study for more than 10 minutes without ge...    657       828   \n",
       "1  WILL NEVER LOOK AS CUTE AS HER WILL BARELY BEA...   2125      1681   \n",
       "2  This pharmacist can vaccinate mess with her an...   2975      2667   \n",
       "3   hard to deal with  anxiety induced mood swing...    414       352   \n",
       "4  He is WHOLESOME but gives off fuckboi vibes ju...    185       178   \n",
       "\n",
       "   Reaction        Class  \n",
       "0       742      Popular  \n",
       "1      1903      Popular  \n",
       "2      2821      Popular  \n",
       "3       383  Not Popular  \n",
       "4       182  Not Popular  "
      ]
     },
     "execution_count": 18,
     "metadata": {},
     "output_type": "execute_result"
    }
   ],
   "source": [
    "sad['Opener'] = sad['Opener'].str.replace(\"[^\\w\\s'`]\",'')\n",
    "sad['Pros'] = sad['Pros'].str.replace(\"[^\\w\\s'`]\",'')\n",
    "sad['Cons'] = sad['Cons'].str.replace(\"[^\\w\\s'`]\",'')\n",
    "sad.head()"
   ]
  },
  {
   "cell_type": "code",
   "execution_count": 19,
   "metadata": {},
   "outputs": [],
   "source": [
    "\n",
    "# Run the demojize which turns unicode emojis into their names\n",
    "#sad['Opener'] = sad['Opener'].apply(em.demojize)\n",
    "#sad['Pros'] = sad['Pros'].apply(em.demojize)\n",
    "#sad['Cons'] = sad['Cons'].apply(em.demojize)\n",
    "#sad.head()\n"
   ]
  },
  {
   "cell_type": "markdown",
   "metadata": {},
   "source": [
    "# LDA"
   ]
  },
  {
   "cell_type": "code",
   "execution_count": 20,
   "metadata": {},
   "outputs": [],
   "source": [
    "def display_topics(model, feature_names, no_top_words):\n",
    "    for topic_idx, topic in enumerate(model.components_):\n",
    "        print(\"Topic %d:\" % (topic_idx))\n",
    "        print(\" \".join([feature_names[i]\n",
    "                        for i in topic.argsort()[:-no_top_words - 1:-1]]))\n",
    "\n",
    "no_top_words = 20"
   ]
  },
  {
   "cell_type": "code",
   "execution_count": 62,
   "metadata": {},
   "outputs": [],
   "source": [
    "# Expand the stop_word list by adding to the sklearn's built in one\n",
    "more_stop_words = ['ll', 'www', 've', \"im\", \"youre\", 'youve', \n",
    "                   'shes', 'aint', 'dont', 'hes', 'wont', 'ur', \n",
    "                   'yall', 'cant', 'doesn', 'doesnt', 'youll',\n",
    "                  'shell', 'hell', 'joshua', 'chang', 'yu', 'ill',\n",
    "                  'jonny', 'nick', 'thats', 'theres', 'was', 'got',\n",
    "                  'wholl', 'gets', 'yo', 'https', 'com', 'know', 'asian',\n",
    "                  'wayne', 'andrew']\n",
    "from sklearn.feature_extraction import text \n",
    "stop_words = text.ENGLISH_STOP_WORDS.union(more_stop_words)\n",
    "\n",
    "# Vectorizing for LDA\n",
    "tf_vectorizer = CountVectorizer(min_df=2, lowercase = True, stop_words = stop_words, ngram_range=(1,3))\n",
    "intro = tf_vectorizer.fit_transform(sad['Opener'][(sad['Gender'] == 'Male') & (sad['Class'] == 'Popular')])\n",
    "intro_feature_names = tf_vectorizer.get_feature_names()\n",
    "pros = tf_vectorizer.fit_transform(sad['Pros'][(sad['Gender'] == 'Male') & (sad['Class'] == 'Popular')])\n",
    "pros_feature_names = tf_vectorizer.get_feature_names()\n",
    "cons = tf_vectorizer.fit_transform(sad['Cons'][(sad['Gender'] == 'Male') & (sad['Class'] == 'Popular')])\n",
    "cons_feature_names = tf_vectorizer.get_feature_names()"
   ]
  },
  {
   "cell_type": "code",
   "execution_count": 63,
   "metadata": {},
   "outputs": [
    {
     "name": "stdout",
     "output_type": "stream",
     "text": [
      "Topic 0:\n",
      "looking attention ladies man oppa need handsome wholesome new attention ladies life boi tired young korean like home make years 20\n",
      "Topic 1:\n",
      "like georgetown look university georgetown university looking single girls wasian georgetown university right buy drinks bachelor peter aka buy drinks year namjas right like like korean namjas namjas right old studying government journalism wasian georgetown\n",
      "Topic 2:\n",
      "boy hello heart come big ny york wanna girls attention studying friend young year 23 comfort white new york single sad share\n"
     ]
    }
   ],
   "source": [
    "no_topics = 3\n",
    "lda = LatentDirichletAllocation(n_components=no_topics, max_iter=5, learning_method='online', learning_offset=50.,random_state=0)\n",
    "lda_intro = lda.fit_transform(intro)\n",
    "display_topics(lda, intro_feature_names, no_top_words)"
   ]
  },
  {
   "cell_type": "code",
   "execution_count": 64,
   "metadata": {},
   "outputs": [
    {
     "name": "stdout",
     "output_type": "stream",
     "text": [
      "Topic 0:\n",
      "hair year 3rd high real eyes thing best dental game did hot beat went years didnt listen high school goes look\n",
      "Topic 1:\n",
      "knows good tall does smile dresses going loves tennis gentleman like really man famous meals love dad big dance family\n",
      "Topic 2:\n",
      "like time make ya knows loves japanese sure world mean voice french love person best hit english man gives countries\n",
      "Topic 3:\n",
      "af does needs mean school takes pics danke getting actually alcohol university shopping self cute conversation starter went looks league hella\n",
      "Topic 4:\n",
      "play knows computer make better piano plays use business finance meals btw likes cs trilingual english ig kpop songs humble anime songs\n",
      "Topic 5:\n",
      "good make actually years going heart sing fashion just world look school clubbing man korean better night kpop 10 english\n",
      "Topic 6:\n",
      "knows years way squash man club big natural born free make born family spent ksa timed spent years natural lessons typa smart 40 pro free squash\n",
      "Topic 7:\n",
      "man life family time loves wholesome school friends knows best things family man university smart cultured like good come super dental\n"
     ]
    }
   ],
   "source": [
    "no_topics = 8\n",
    "lda = LatentDirichletAllocation(n_components=no_topics, max_iter=5, learning_method='online', learning_offset=50.,random_state=0)\n",
    "lda_pros = lda.fit_transform(pros)\n",
    "display_topics(lda, pros_feature_names, no_top_words)"
   ]
  },
  {
   "cell_type": "code",
   "execution_count": 65,
   "metadata": {},
   "outputs": [
    {
     "name": "stdout",
     "output_type": "stream",
     "text": [
      "Topic 0:\n",
      "waiting pictures looks drunk probably high heart handsome ugly girls lowkey chinese big competition getting little make league start listen\n",
      "Topic 1:\n",
      "younger sight gentle single fall eats romcoms outmeme listen prettier food salad rabbits friends bad romcoms outmeme rabbits better huge like girls league makes sucks\n",
      "Topic 2:\n",
      "squat chinese make tall food big enjoys bad romcoms rabbits ass boi just genuinely enjoys head body drunk went week salad rabbits ready bad romcoms really korean\n",
      "Topic 3:\n",
      "look just pretty makes big literally smaller photos stolen fall like body ugly head little mans salad enjoys bad romcoms leaving younger\n",
      "Topic 4:\n",
      "league hair time bad romcoms outmeme drink really korean ask pretty listen spends bad korean learning like like boba little free make boba genuinely enjoys waiting romcoms big\n",
      "Topic 5:\n",
      "salad korean learning like genuinely learning single korean boba genuinely really league boba genuinely enjoys week salad rabbits 511 week bad romcoms genuinely enjoys song nonstop week like boba genuinely romcoms love little enjoys bad romcoms\n",
      "Topic 6:\n",
      "little free bad rice good league instagram salad actually sucks like enjoys bad makes pics week went smaller looks like boba really korean learning\n",
      "Topic 7:\n",
      "probably girls hard make time love works late fall away kinda pro friends ask loves mcdonalds soon 60 photos look\n",
      "Topic 8:\n",
      "romcoms outmeme listen food korean start huge boba bad romcoms week salad rabbits just prettier week salad pro eats look better single korean literally gals late drunk\n",
      "Topic 9:\n",
      "weird food little makes late pics loves boi literally like good gals tall week salad bad romcoms outmeme heart salad rabbits look learning listen\n",
      "Topic 10:\n",
      "week salad rabbits friends kinda mcdonalds love korean listen single korean single loves bad romcoms boba genuinely enjoys relationship learning moves make day really weird future look\n",
      "Topic 11:\n",
      "day body ass squat pro make moves eat sight stolen better spends relationship drink prettier younger girls ready gentle just\n",
      "Topic 12:\n",
      "mcdonalds younger smaller flow free drink instagram eats 60 eat money everyday drunk boba actually like probably soon photos nonstop week\n",
      "Topic 13:\n",
      "korean really actually like outmeme learning like boba enjoys like boba enjoys bad romcoms rabbits song nonstop like boba genuinely nonstop week bad romcoms nonstop week salad single korean listen learning korean song nonstop salad rabbits\n",
      "Topic 14:\n",
      "little time instagram leaving spends really rice 511 prettier hair like kinda soon competition big prettier relationship mans pics ready went\n"
     ]
    }
   ],
   "source": [
    "no_topics = 15\n",
    "lda = LatentDirichletAllocation(n_components=no_topics, max_iter=5, learning_method='online', learning_offset=50.,random_state=0)\n",
    "lda_cons = lda.fit_transform(cons)\n",
    "display_topics(lda, cons_feature_names, no_top_words)"
   ]
  },
  {
   "cell_type": "code",
   "execution_count": 66,
   "metadata": {},
   "outputs": [],
   "source": [
    "# Vectorizing for LDA\n",
    "tf_vectorizer = CountVectorizer(min_df=2, lowercase = True, stop_words = stop_words, ngram_range=(1,2))\n",
    "intro = tf_vectorizer.fit_transform(sad['Opener'][(sad['Gender'] == 'Female') & (sad['Class'] == 'Popular')])\n",
    "intro_feature_names = tf_vectorizer.get_feature_names()\n",
    "pros = tf_vectorizer.fit_transform(sad['Pros'][(sad['Gender'] == 'Female') & (sad['Class'] == 'Popular')])\n",
    "pros_feature_names = tf_vectorizer.get_feature_names()\n",
    "cons = tf_vectorizer.fit_transform(sad['Cons'][(sad['Gender'] == 'Female') & (sad['Class'] == 'Popular')])\n",
    "cons_feature_names = tf_vectorizer.get_feature_names()"
   ]
  },
  {
   "cell_type": "code",
   "execution_count": 67,
   "metadata": {},
   "outputs": [
    {
     "name": "stdout",
     "output_type": "stream",
     "text": [
      "Topic 0:\n",
      "nyc wholesome girl cause cuff really season make attention need ass boys don calling want af 22 time bae cute\n",
      "Topic 1:\n",
      "time wholesome look sad looking friend attention girl little present make good time beautiful ya guy bois introducing really stop covered\n",
      "Topic 2:\n",
      "tag hot looking okay post bitch wholesome bay area area bad bitch don winter just originally friends love tag single year free lookin\n"
     ]
    }
   ],
   "source": [
    "no_topics = 3\n",
    "lda = LatentDirichletAllocation(n_components=no_topics, max_iter=5, learning_method='online', learning_offset=50.,random_state=0)\n",
    "lda_intro = lda.fit_transform(intro)\n",
    "display_topics(lda, intro_feature_names, no_top_words)"
   ]
  },
  {
   "cell_type": "code",
   "execution_count": 68,
   "metadata": {},
   "outputs": [
    {
     "name": "stdout",
     "output_type": "stream",
     "text": [
      "Topic 0:\n",
      "girl abg like better kpop bible girl ass heels make high want looks long things pass bible chinese student live 52\n",
      "Topic 1:\n",
      "gonna good pretty smart sense actually probs sweet guess type loves personality humor sense humor kpop game love meals lookin eater\n",
      "Topic 2:\n",
      "great super love like parents love cute girl parents knows anime explore things student chill meals sure way independent trilingual streets\n",
      "Topic 3:\n",
      "eat good want need loves gym great wholesome order amazing stay easy talk humor super face best sense model looks dance\n",
      "Topic 4:\n",
      "super anime hang girl good make wholesome high order looks real artsy draw probably sweetest like cultured knows hentai foods\n",
      "Topic 5:\n",
      "af kinda fun loves works brains better super cute famous knows time feel like bank guess feel tall lover loyal af club\n",
      "Topic 6:\n",
      "af eat loves anime love just talk low maintenance chill low dance like worry raves model strong likes game super gym\n",
      "Topic 7:\n",
      "family mandarin point piano english sweetest think play meet smoke knows drink really cultured likes sing person literally raves foods\n"
     ]
    }
   ],
   "source": [
    "no_topics = 8\n",
    "lda = LatentDirichletAllocation(n_components=no_topics, max_iter=5, learning_method='online', learning_offset=50.,random_state=0)\n",
    "lda_pros = lda.fit_transform(pros)\n",
    "display_topics(lda, pros_feature_names, no_top_words)"
   ]
  },
  {
   "cell_type": "code",
   "execution_count": 70,
   "metadata": {},
   "outputs": [
    {
     "name": "stdout",
     "output_type": "stream",
     "text": [
      "Topic 0:\n",
      "dms bc small 10 drink chopsticks drinking thing wonder fan pics gram free need week saying type speak loyal literally big\n",
      "Topic 1:\n",
      "eating cute shot wonder shot wonder pics free gram better likes good pics gram need make week love right pictures rave lol\n",
      "Topic 2:\n",
      "ass gotta free drink literally does dms week eating bc handle game 10 rave people guys pics better lift best\n",
      "Topic 3:\n",
      "lot guys competition shot dms likes funny good maybe ass just loyal love week lol pictures loves thing probably handle\n",
      "Topic 4:\n",
      "10 cute chinese just fan guys best high type boba eating people love week time pictures looks pics gram probably shot wonder\n",
      "Topic 5:\n",
      "chopsticks use chopsticks use chinese maybe league small pictures life really guys hoodies drinking love looks competition handle wonder loves right\n",
      "Topic 6:\n",
      "loyal probably guys ass like league maybe pictures drink good tell week use chopsticks high people handle rave big bc use\n",
      "Topic 7:\n",
      "ig make clout handle 10 high like bc week big game hoodies saying gram pics gram loves lol girl lot probably\n",
      "Topic 8:\n",
      "chinese use small just good free hoodies love fan rave tell pics girl big speak gotta literally funny like type\n",
      "Topic 9:\n",
      "literally high type fan use chopsticks lot dms like love just funny 10 use chopsticks really pics girl guys speak right\n",
      "Topic 10:\n",
      "girl type tell time drinking shot game high fan guys like best make loyal just right cute eat ig handle\n",
      "Topic 11:\n",
      "lift does small drink best people league girl guys make pictures clout week cute literally ig drinking competition life chopsticks\n",
      "Topic 12:\n",
      "10 saying free guys lol thing game does pics gram speak love probably small high make good drink lift pictures like\n",
      "Topic 13:\n",
      "probably chinese looks big fan big life cute fan boba speak like time gotta good saying better eat drink likes need\n",
      "Topic 14:\n",
      "like boba game drinking small rave 10 beat shot wonder lift hoodies good eating ass use wonder big handle funny people\n"
     ]
    }
   ],
   "source": [
    "no_topics = 15\n",
    "lda = LatentDirichletAllocation(n_components=no_topics, max_iter=5, learning_method='online', learning_offset=50.,random_state=0)\n",
    "lda_cons = lda.fit_transform(cons)\n",
    "display_topics(lda, cons_feature_names, no_top_words)"
   ]
  },
  {
   "cell_type": "markdown",
   "metadata": {},
   "source": [
    "# SVM Classification"
   ]
  },
  {
   "cell_type": "code",
   "execution_count": 29,
   "metadata": {},
   "outputs": [],
   "source": [
    "# Extract our values to train our SVM models\n",
    "y=np.array(sad['Class'].values.tolist())\n",
    "X_intro=sad['Opener'].values\n",
    "X_pros=sad['Pros'].values\n",
    "X_cons=sad['Cons'].values\n",
    "\n",
    "unigram_tfidf = TfidfVectorizer(encoding='latin-1', use_idf=True, min_df = 2, stop_words = stop_words)\n",
    "unigram_bigram_tfidf = TfidfVectorizer(encoding='latin-1', use_idf=True, min_df = 2, stop_words = stop_words, ngram_range=(1,3))"
   ]
  },
  {
   "cell_type": "markdown",
   "metadata": {},
   "source": [
    "## SVM Classification - Openers"
   ]
  },
  {
   "cell_type": "code",
   "execution_count": 30,
   "metadata": {
    "scrolled": true
   },
   "outputs": [
    {
     "name": "stdout",
     "output_type": "stream",
     "text": [
      "Training set shape after vectorization: unigram\n",
      "(60, 182)\n",
      "Training set shape after vectorization: unigram & bigram\n",
      "(60, 244)\n",
      "Testing set shape after vectorization: unigram\n",
      "(40, 182)\n",
      "Testing set shape after vectorization: unigram & bigram\n",
      "(40, 244)\n"
     ]
    }
   ],
   "source": [
    "# Split Training and Testing Set\n",
    "X_train, X_test, y_train, y_test = train_test_split(X_intro, y, test_size=0.4, random_state=0)\n",
    "\n",
    "# Vectorizers the training set and testing set\n",
    "X_train_unigram = unigram_tfidf.fit_transform(X_train)\n",
    "X_train_unigram_bigram = unigram_bigram_tfidf.fit_transform(X_train)\n",
    "print(\"Training set shape after vectorization: unigram\")\n",
    "print(X_train_unigram.shape)\n",
    "print(\"Training set shape after vectorization: unigram & bigram\")\n",
    "print(X_train_unigram_bigram.shape)\n",
    "\n",
    "X_test_unigram = unigram_tfidf.transform(X_test)\n",
    "X_test_unigram_bigram = unigram_bigram_tfidf.transform(X_test)\n",
    "print(\"Testing set shape after vectorization: unigram\")\n",
    "print(X_test_unigram.shape)\n",
    "print(\"Testing set shape after vectorization: unigram & bigram\")\n",
    "print(X_test_unigram_bigram.shape)"
   ]
  },
  {
   "cell_type": "code",
   "execution_count": 31,
   "metadata": {},
   "outputs": [
    {
     "name": "stdout",
     "output_type": "stream",
     "text": [
      "Unigram SVM confusion matrix and evaluation metrics\n",
      "\n",
      "[[10 12]\n",
      " [ 6 12]]\n",
      "\n",
      "              precision    recall  f1-score   support\n",
      "\n",
      " Not Popular       0.62      0.45      0.53        22\n",
      "     Popular       0.50      0.67      0.57        18\n",
      "\n",
      "   micro avg       0.55      0.55      0.55        40\n",
      "   macro avg       0.56      0.56      0.55        40\n",
      "weighted avg       0.57      0.55      0.55        40\n",
      "\n"
     ]
    }
   ],
   "source": [
    "# initialize the models\n",
    "svm_clf_unigram = LinearSVC(C=0.8)\n",
    "\n",
    "# use the training data to train the models\n",
    "svm_clf_unigram.fit(X_train_unigram, y_train)\n",
    "\n",
    "print(\"Unigram SVM confusion matrix and evaluation metrics\")\n",
    "print()\n",
    "target_names = ['Not Popular', 'Popular']\n",
    "y_pred = svm_clf_unigram.predict(X_test_unigram)\n",
    "print(confusion_matrix(y_test, y_pred, labels=['Not Popular', 'Popular']))\n",
    "print()\n",
    "print(classification_report(y_test, y_pred, target_names=target_names))"
   ]
  },
  {
   "cell_type": "code",
   "execution_count": 32,
   "metadata": {},
   "outputs": [
    {
     "name": "stdout",
     "output_type": "stream",
     "text": [
      "Not popular words: Unigram SVM\n",
      "(-0.8946426471609028, 'trying')\n",
      "(-0.8543641502041024, 'wanted')\n",
      "(-0.8051298868922938, 'ready')\n",
      "(-0.7256913065367858, 'day')\n",
      "(-0.7166426242023961, 'stop')\n",
      "(-0.7070368414741994, 'real')\n",
      "(-0.6888783642664924, 'hit')\n",
      "(-0.6408138292536393, 'texas')\n",
      "(-0.6373073470363939, 'present')\n",
      "(-0.5398853804295767, 'date')\n",
      "\n",
      "Popular words: Unigram SVM\n",
      "(0.5290222270717391, 'boi')\n",
      "(0.532043127427789, 'don')\n",
      "(0.536203863153501, 'promote')\n",
      "(0.5487272332466644, '22')\n",
      "(0.553909973455104, 'auction')\n",
      "(0.5569384725987088, 'east')\n",
      "(0.5637625649202196, 'oppa')\n",
      "(0.570980958814838, 'time')\n",
      "(0.6775046841737385, 'handsome')\n",
      "(0.9336244837235645, 'big')\n",
      "\n"
     ]
    }
   ],
   "source": [
    "# Gets most informative features for SVM classifier\n",
    "feature_ranks_svm_popular = sorted(zip(svm_clf_unigram.coef_[0], unigram_tfidf.get_feature_names()))\n",
    "#feature_ranks_svm_popular = sorted(zip(svm_clf_unigram.coef_[1], unigram_tfidf.get_feature_names()))\n",
    "\n",
    "not_popular_10 = feature_ranks_svm_popular[:10]\n",
    "print(\"Not popular words: Unigram SVM\")\n",
    "for i in range(0, len(not_popular_10)):\n",
    "    print(not_popular_10[i])\n",
    "print()\n",
    "\n",
    "popular_10 = feature_ranks_svm_popular[-10:]\n",
    "print(\"Popular words: Unigram SVM\")\n",
    "for i in range(0, len(popular_10)):\n",
    "    print(popular_10[i])\n",
    "print()"
   ]
  },
  {
   "cell_type": "code",
   "execution_count": 33,
   "metadata": {},
   "outputs": [
    {
     "name": "stdout",
     "output_type": "stream",
     "text": [
      "Unigram & Bigram SVM confusion matrix and evaluation metrics\n",
      "\n",
      "[[10 12]\n",
      " [ 5 13]]\n",
      "\n",
      "              precision    recall  f1-score   support\n",
      "\n",
      " Not Popular       0.67      0.45      0.54        22\n",
      "     Popular       0.52      0.72      0.60        18\n",
      "\n",
      "   micro avg       0.57      0.57      0.57        40\n",
      "   macro avg       0.59      0.59      0.57        40\n",
      "weighted avg       0.60      0.57      0.57        40\n",
      "\n"
     ]
    }
   ],
   "source": [
    "# initialize the models\n",
    "svm_clf_unigram_bigram = LinearSVC(C=1)\n",
    "\n",
    "# use the training data to train the models\n",
    "svm_clf_unigram_bigram.fit(X_train_unigram_bigram, y_train)\n",
    "\n",
    "print(\"Unigram & Bigram SVM confusion matrix and evaluation metrics\")\n",
    "print()\n",
    "target_names = ['Not Popular', 'Popular']\n",
    "y_pred = svm_clf_unigram_bigram.predict(X_test_unigram_bigram)\n",
    "print(confusion_matrix(y_test, y_pred, labels=['Not Popular', 'Popular']))\n",
    "print()\n",
    "print(classification_report(y_test, y_pred, target_names=target_names))"
   ]
  },
  {
   "cell_type": "code",
   "execution_count": 34,
   "metadata": {},
   "outputs": [
    {
     "name": "stdout",
     "output_type": "stream",
     "text": [
      "Not popular words: Unigram & Bigram SVM\n",
      "(-0.7407742596038009, 'girl')\n",
      "(-0.7406014897500506, 'make')\n",
      "(-0.728629123874438, 'world')\n",
      "(-0.7208393779701251, 'winter')\n",
      "(-0.6639024891229653, 'knows')\n",
      "(-0.5383900186106961, 'vancouver')\n",
      "(-0.5336406414828545, 'chinese')\n",
      "(-0.5015798831287109, 'don')\n",
      "(-0.49147242629699295, 'highly')\n",
      "(-0.49147242629699295, 'material')\n",
      "\n",
      "Popular words: Unigram & Bigram SVM\n",
      "(0.49452927388859, 'men')\n",
      "(0.5486756095514336, 'handsome')\n",
      "(0.5561668161547403, '22')\n",
      "(0.567696151430889, 'guy')\n",
      "(0.5806869590388313, 'year')\n",
      "(0.58612537720236, 'wants')\n",
      "(0.609856070189694, 'beautiful')\n",
      "(0.615420089255114, 'time')\n",
      "(0.6890614541062804, 'life')\n",
      "(1.0022614033822106, 'brains')\n",
      "\n"
     ]
    }
   ],
   "source": [
    "# Gets most informative features for SVM classifier\n",
    "feature_ranks_svm_popular = sorted(zip(svm_clf_unigram_bigram.coef_[0], unigram_tfidf.get_feature_names()))\n",
    "\n",
    "not_popular_10 = feature_ranks_svm_popular[:10]\n",
    "print(\"Not popular words: Unigram & Bigram SVM\")\n",
    "for i in range(0, len(not_popular_10)):\n",
    "    print(not_popular_10[i])\n",
    "print()\n",
    "\n",
    "popular_10 = feature_ranks_svm_popular[-10:]\n",
    "print(\"Popular words: Unigram & Bigram SVM\")\n",
    "for i in range(0, len(popular_10)):\n",
    "    print(popular_10[i])\n",
    "print()"
   ]
  },
  {
   "cell_type": "markdown",
   "metadata": {},
   "source": [
    "## SVM Classification - Pros"
   ]
  },
  {
   "cell_type": "code",
   "execution_count": 35,
   "metadata": {
    "scrolled": true
   },
   "outputs": [
    {
     "name": "stdout",
     "output_type": "stream",
     "text": [
      "Training set shape after vectorization: unigram\n",
      "(60, 568)\n",
      "Training set shape after vectorization: unigram & bigram\n",
      "(60, 841)\n",
      "Testing set shape after vectorization: unigram\n",
      "(40, 568)\n",
      "Testing set shape after vectorization: unigram & bigram\n",
      "(40, 841)\n"
     ]
    }
   ],
   "source": [
    "# Split Training and Testing Set\n",
    "X_train, X_test, y_train, y_test = train_test_split(X_pros, y, test_size=0.4, random_state=0)\n",
    "\n",
    "# Vectorizers the training set and testing set\n",
    "X_train_unigram = unigram_tfidf.fit_transform(X_train)\n",
    "X_train_unigram_bigram = unigram_bigram_tfidf.fit_transform(X_train)\n",
    "print(\"Training set shape after vectorization: unigram\")\n",
    "print(X_train_unigram.shape)\n",
    "print(\"Training set shape after vectorization: unigram & bigram\")\n",
    "print(X_train_unigram_bigram.shape)\n",
    "\n",
    "X_test_unigram = unigram_tfidf.transform(X_test)\n",
    "X_test_unigram_bigram = unigram_bigram_tfidf.transform(X_test)\n",
    "print(\"Testing set shape after vectorization: unigram\")\n",
    "print(X_test_unigram.shape)\n",
    "print(\"Testing set shape after vectorization: unigram & bigram\")\n",
    "print(X_test_unigram_bigram.shape)"
   ]
  },
  {
   "cell_type": "code",
   "execution_count": 36,
   "metadata": {},
   "outputs": [
    {
     "name": "stdout",
     "output_type": "stream",
     "text": [
      "Unigram SVM confusion matrix and evaluation metrics\n",
      "\n",
      "[[ 6 16]\n",
      " [ 6 12]]\n",
      "\n",
      "              precision    recall  f1-score   support\n",
      "\n",
      " Not Popular       0.50      0.27      0.35        22\n",
      "     Popular       0.43      0.67      0.52        18\n",
      "\n",
      "   micro avg       0.45      0.45      0.45        40\n",
      "   macro avg       0.46      0.47      0.44        40\n",
      "weighted avg       0.47      0.45      0.43        40\n",
      "\n"
     ]
    }
   ],
   "source": [
    "# initialize the models\n",
    "svm_clf_unigram = LinearSVC(C=0.8)\n",
    "\n",
    "# use the training data to train the models\n",
    "svm_clf_unigram.fit(X_train_unigram, y_train)\n",
    "\n",
    "print(\"Unigram SVM confusion matrix and evaluation metrics\")\n",
    "print()\n",
    "target_names = ['Not Popular', 'Popular']\n",
    "y_pred = svm_clf_unigram.predict(X_test_unigram)\n",
    "print(confusion_matrix(y_test, y_pred, labels=['Not Popular', 'Popular']))\n",
    "print()\n",
    "print(classification_report(y_test, y_pred, target_names=target_names))"
   ]
  },
  {
   "cell_type": "code",
   "execution_count": 37,
   "metadata": {},
   "outputs": [
    {
     "name": "stdout",
     "output_type": "stream",
     "text": [
      "Not popular words: Unigram SVM\n",
      "(-0.5990872571856678, 'want')\n",
      "(-0.5496172243755115, 'right')\n",
      "(-0.48644559424945066, 'currently')\n",
      "(-0.4726581316061128, 'like')\n",
      "(-0.47045417996910216, 'key')\n",
      "(-0.45649702312531637, 'basically')\n",
      "(-0.45254187556860037, 'program')\n",
      "(-0.4478966938350781, 'bc')\n",
      "(-0.4474494387047489, 'life')\n",
      "(-0.4409534829873429, 'plays')\n",
      "\n",
      "Popular words: Unigram SVM\n",
      "(0.45636689386495033, 'world')\n",
      "(0.45853770551382617, 'drink')\n",
      "(0.4607837279185171, 'years')\n",
      "(0.46738489419751367, 'kinda')\n",
      "(0.47022869728055144, 'professional')\n",
      "(0.472533260088293, 'anime')\n",
      "(0.5276967455454742, 'gym')\n",
      "(0.5505787360519167, 'knows')\n",
      "(0.5774767916355168, 'time')\n",
      "(0.6825714568323872, 'better')\n",
      "\n"
     ]
    }
   ],
   "source": [
    "# Gets most informative features for SVM classifier\n",
    "feature_ranks_svm_popular = sorted(zip(svm_clf_unigram.coef_[0], unigram_tfidf.get_feature_names()))\n",
    "#feature_ranks_svm_popular = sorted(zip(svm_clf_unigram.coef_[1], unigram_tfidf.get_feature_names()))\n",
    "\n",
    "not_popular_10 = feature_ranks_svm_popular[:10]\n",
    "print(\"Not popular words: Unigram SVM\")\n",
    "for i in range(0, len(not_popular_10)):\n",
    "    print(not_popular_10[i])\n",
    "print()\n",
    "\n",
    "popular_10 = feature_ranks_svm_popular[-10:]\n",
    "print(\"Popular words: Unigram SVM\")\n",
    "for i in range(0, len(popular_10)):\n",
    "    print(popular_10[i])\n",
    "print()"
   ]
  },
  {
   "cell_type": "code",
   "execution_count": 38,
   "metadata": {},
   "outputs": [
    {
     "name": "stdout",
     "output_type": "stream",
     "text": [
      "Unigram & Bigram SVM confusion matrix and evaluation metrics\n",
      "\n",
      "[[ 7 15]\n",
      " [ 5 13]]\n",
      "\n",
      "              precision    recall  f1-score   support\n",
      "\n",
      " Not Popular       0.58      0.32      0.41        22\n",
      "     Popular       0.46      0.72      0.57        18\n",
      "\n",
      "   micro avg       0.50      0.50      0.50        40\n",
      "   macro avg       0.52      0.52      0.49        40\n",
      "weighted avg       0.53      0.50      0.48        40\n",
      "\n"
     ]
    }
   ],
   "source": [
    "# initialize the models\n",
    "svm_clf_unigram_bigram = LinearSVC(C=1.5)\n",
    "\n",
    "# use the training data to train the models\n",
    "svm_clf_unigram_bigram.fit(X_train_unigram_bigram, y_train)\n",
    "\n",
    "print(\"Unigram & Bigram SVM confusion matrix and evaluation metrics\")\n",
    "print()\n",
    "target_names = ['Not Popular', 'Popular']\n",
    "y_pred = svm_clf_unigram_bigram.predict(X_test_unigram_bigram)\n",
    "print(confusion_matrix(y_test, y_pred, labels=['Not Popular', 'Popular']))\n",
    "print()\n",
    "print(classification_report(y_test, y_pred, target_names=target_names))"
   ]
  },
  {
   "cell_type": "code",
   "execution_count": 39,
   "metadata": {},
   "outputs": [
    {
     "name": "stdout",
     "output_type": "stream",
     "text": [
      "Not popular words: Unigram & Bigram SVM\n",
      "(-0.5953725805662857, 'faves')\n",
      "(-0.5752508754492847, 'quite')\n",
      "(-0.5460310166980874, 'bread')\n",
      "(-0.5441648366534317, 'school')\n",
      "(-0.5060471356953041, 'second')\n",
      "(-0.48959057843766685, 'photos')\n",
      "(-0.48584610966546093, 'singer')\n",
      "(-0.4801601559658405, 'touch')\n",
      "(-0.44364631788754233, 'body')\n",
      "(-0.4208936381284694, 'day')\n",
      "\n",
      "Popular words: Unigram & Bigram SVM\n",
      "(0.464386899839497, 'huge')\n",
      "(0.4709381041669718, 'durian')\n",
      "(0.49784691331341124, 'places')\n",
      "(0.504177221661561, 'hit')\n",
      "(0.5568953031747167, 'athletic')\n",
      "(0.5573360210186775, 'girls')\n",
      "(0.5766649735255454, 'read')\n",
      "(0.6449739475477929, 'mom')\n",
      "(0.7029930367443964, 'ready')\n",
      "(0.8294408117057371, 'bubble')\n",
      "\n"
     ]
    }
   ],
   "source": [
    "# Gets most informative features for SVM classifier\n",
    "feature_ranks_svm_popular = sorted(zip(svm_clf_unigram_bigram.coef_[0], unigram_tfidf.get_feature_names()))\n",
    "\n",
    "not_popular_10 = feature_ranks_svm_popular[:10]\n",
    "print(\"Not popular words: Unigram & Bigram SVM\")\n",
    "for i in range(0, len(not_popular_10)):\n",
    "    print(not_popular_10[i])\n",
    "print()\n",
    "\n",
    "popular_10 = feature_ranks_svm_popular[-10:]\n",
    "print(\"Popular words: Unigram & Bigram SVM\")\n",
    "for i in range(0, len(popular_10)):\n",
    "    print(popular_10[i])\n",
    "print()"
   ]
  },
  {
   "cell_type": "markdown",
   "metadata": {},
   "source": [
    "## SVM Classification - Cons"
   ]
  },
  {
   "cell_type": "code",
   "execution_count": 40,
   "metadata": {},
   "outputs": [
    {
     "name": "stdout",
     "output_type": "stream",
     "text": [
      "Training set shape after vectorization: unigram\n",
      "(60, 249)\n",
      "Training set shape after vectorization: unigram & bigram\n",
      "(60, 360)\n",
      "Testing set shape after vectorization: unigram\n",
      "(40, 249)\n",
      "Testing set shape after vectorization: unigram & bigram\n",
      "(40, 360)\n"
     ]
    }
   ],
   "source": [
    "# Split Training and Testing Set\n",
    "X_train, X_test, y_train, y_test = train_test_split(X_cons, y, test_size=0.4, random_state=0)\n",
    "\n",
    "# Vectorizers the training set and testing set\n",
    "X_train_unigram = unigram_tfidf.fit_transform(X_train)\n",
    "X_train_unigram_bigram = unigram_bigram_tfidf.fit_transform(X_train)\n",
    "print(\"Training set shape after vectorization: unigram\")\n",
    "print(X_train_unigram.shape)\n",
    "print(\"Training set shape after vectorization: unigram & bigram\")\n",
    "print(X_train_unigram_bigram.shape)\n",
    "\n",
    "X_test_unigram = unigram_tfidf.transform(X_test)\n",
    "X_test_unigram_bigram = unigram_bigram_tfidf.transform(X_test)\n",
    "print(\"Testing set shape after vectorization: unigram\")\n",
    "print(X_test_unigram.shape)\n",
    "print(\"Testing set shape after vectorization: unigram & bigram\")\n",
    "print(X_test_unigram_bigram.shape)"
   ]
  },
  {
   "cell_type": "code",
   "execution_count": 41,
   "metadata": {},
   "outputs": [
    {
     "name": "stdout",
     "output_type": "stream",
     "text": [
      "Unigram SVM confusion matrix and evaluation metrics\n",
      "\n",
      "[[11 11]\n",
      " [11  7]]\n",
      "\n",
      "              precision    recall  f1-score   support\n",
      "\n",
      " Not Popular       0.50      0.50      0.50        22\n",
      "     Popular       0.39      0.39      0.39        18\n",
      "\n",
      "   micro avg       0.45      0.45      0.45        40\n",
      "   macro avg       0.44      0.44      0.44        40\n",
      "weighted avg       0.45      0.45      0.45        40\n",
      "\n"
     ]
    }
   ],
   "source": [
    "# initialize the models\n",
    "svm_clf_unigram = LinearSVC(C=1.5)\n",
    "\n",
    "# use the training data to train the models\n",
    "svm_clf_unigram.fit(X_train_unigram, y_train)\n",
    "\n",
    "print(\"Unigram SVM confusion matrix and evaluation metrics\")\n",
    "print()\n",
    "target_names = ['Not Popular', 'Popular']\n",
    "y_pred = svm_clf_unigram.predict(X_test_unigram)\n",
    "print(confusion_matrix(y_test, y_pred, labels=['Not Popular', 'Popular']))\n",
    "print()\n",
    "print(classification_report(y_test, y_pred, target_names=target_names))"
   ]
  },
  {
   "cell_type": "code",
   "execution_count": 42,
   "metadata": {},
   "outputs": [
    {
     "name": "stdout",
     "output_type": "stream",
     "text": [
      "Not popular words: Unigram SVM\n",
      "(-1.0593295020347688, 'boba')\n",
      "(-0.8766049163239443, 'super')\n",
      "(-0.8688950804265847, 'gotta')\n",
      "(-0.7718399894423585, 'random')\n",
      "(-0.7412746984027907, 'cantonese')\n",
      "(-0.7225508047137107, 'takes')\n",
      "(-0.7176586393081539, 'af')\n",
      "(-0.7104634422353717, 'especially')\n",
      "(-0.706957757418703, 'glow')\n",
      "(-0.6702195865866608, 'snatch')\n",
      "\n",
      "Popular words: Unigram SVM\n",
      "(0.5646274435703429, 'allergies')\n",
      "(0.5999660203016712, 'short')\n",
      "(0.6055572848243427, 'probably')\n",
      "(0.643397433751922, 'girl')\n",
      "(0.659675908363225, 'beat')\n",
      "(0.6926125767655144, 'girls')\n",
      "(0.7376121736745427, 'single')\n",
      "(0.7852461182436858, 'literally')\n",
      "(0.8461072168476137, 'look')\n",
      "(0.8877790559987397, 'league')\n",
      "\n"
     ]
    }
   ],
   "source": [
    "# Gets most informative features for SVM classifier\n",
    "feature_ranks_svm_popular = sorted(zip(svm_clf_unigram.coef_[0], unigram_tfidf.get_feature_names()))\n",
    "#feature_ranks_svm_popular = sorted(zip(svm_clf_unigram.coef_[1], unigram_tfidf.get_feature_names()))\n",
    "\n",
    "not_popular_10 = feature_ranks_svm_popular[:10]\n",
    "print(\"Not popular words: Unigram SVM\")\n",
    "for i in range(0, len(not_popular_10)):\n",
    "    print(not_popular_10[i])\n",
    "print()\n",
    "\n",
    "popular_10 = feature_ranks_svm_popular[-10:]\n",
    "print(\"Popular words: Unigram SVM\")\n",
    "for i in range(0, len(popular_10)):\n",
    "    print(popular_10[i])\n",
    "print()"
   ]
  },
  {
   "cell_type": "code",
   "execution_count": 43,
   "metadata": {},
   "outputs": [
    {
     "name": "stdout",
     "output_type": "stream",
     "text": [
      "Unigram & Bigram SVM confusion matrix and evaluation metrics\n",
      "\n",
      "[[10 12]\n",
      " [11  7]]\n",
      "\n",
      "              precision    recall  f1-score   support\n",
      "\n",
      " Not Popular       0.48      0.45      0.47        22\n",
      "     Popular       0.37      0.39      0.38        18\n",
      "\n",
      "   micro avg       0.42      0.42      0.42        40\n",
      "   macro avg       0.42      0.42      0.42        40\n",
      "weighted avg       0.43      0.42      0.43        40\n",
      "\n"
     ]
    }
   ],
   "source": [
    "# initialize the models\n",
    "svm_clf_unigram_bigram = LinearSVC(C=2)\n",
    "\n",
    "# use the training data to train the models\n",
    "svm_clf_unigram_bigram.fit(X_train_unigram_bigram, y_train)\n",
    "\n",
    "print(\"Unigram & Bigram SVM confusion matrix and evaluation metrics\")\n",
    "print()\n",
    "target_names = ['Not Popular', 'Popular']\n",
    "y_pred = svm_clf_unigram_bigram.predict(X_test_unigram_bigram)\n",
    "print(confusion_matrix(y_test, y_pred, labels=['Not Popular', 'Popular']))\n",
    "print()\n",
    "print(classification_report(y_test, y_pred, target_names=target_names))"
   ]
  },
  {
   "cell_type": "code",
   "execution_count": 44,
   "metadata": {},
   "outputs": [
    {
     "name": "stdout",
     "output_type": "stream",
     "text": [
      "Not popular words: Unigram & Bigram SVM\n",
      "(-1.121766278820855, 'close')\n",
      "(-0.8934625641294013, 'male')\n",
      "(-0.8151669642504102, 'count')\n",
      "(-0.7935146029636427, 'attention')\n",
      "(-0.702749543728938, 'guy')\n",
      "(-0.6902804582494506, 'lowkey')\n",
      "(-0.6502584839039247, 'career')\n",
      "(-0.6501023900989541, 'making')\n",
      "(-0.6230268929917465, 'free')\n",
      "(-0.5846191472651665, 'short')\n",
      "\n",
      "Popular words: Unigram & Bigram SVM\n",
      "(0.6069772400162016, 'look')\n",
      "(0.6180441762022562, 'bachelor')\n",
      "(0.6546994475697617, 'truly')\n",
      "(0.6875147541420416, 'whitewashed')\n",
      "(0.6879444177510083, 'love')\n",
      "(0.7197413926766589, 'cantonese')\n",
      "(0.7411852419045829, 'loves')\n",
      "(0.8342152714186158, 'shot')\n",
      "(0.8689878356865463, 'school')\n",
      "(0.9270563648119666, 'quick')\n",
      "\n"
     ]
    }
   ],
   "source": [
    "# Gets most informative features for SVM classifier\n",
    "feature_ranks_svm_popular = sorted(zip(svm_clf_unigram_bigram.coef_[0], unigram_tfidf.get_feature_names()))\n",
    "\n",
    "not_popular_10 = feature_ranks_svm_popular[:10]\n",
    "print(\"Not popular words: Unigram & Bigram SVM\")\n",
    "for i in range(0, len(not_popular_10)):\n",
    "    print(not_popular_10[i])\n",
    "print()\n",
    "\n",
    "popular_10 = feature_ranks_svm_popular[-10:]\n",
    "print(\"Popular words: Unigram & Bigram SVM\")\n",
    "for i in range(0, len(popular_10)):\n",
    "    print(popular_10[i])\n",
    "print()"
   ]
  },
  {
   "cell_type": "code",
   "execution_count": null,
   "metadata": {},
   "outputs": [],
   "source": []
  },
  {
   "cell_type": "code",
   "execution_count": null,
   "metadata": {},
   "outputs": [],
   "source": []
  },
  {
   "cell_type": "code",
   "execution_count": null,
   "metadata": {},
   "outputs": [],
   "source": []
  },
  {
   "cell_type": "code",
   "execution_count": null,
   "metadata": {},
   "outputs": [],
   "source": []
  },
  {
   "cell_type": "code",
   "execution_count": null,
   "metadata": {},
   "outputs": [],
   "source": []
  }
 ],
 "metadata": {
  "kernelspec": {
   "display_name": "Python 3",
   "language": "python",
   "name": "python3"
  },
  "language_info": {
   "codemirror_mode": {
    "name": "ipython",
    "version": 3
   },
   "file_extension": ".py",
   "mimetype": "text/x-python",
   "name": "python",
   "nbconvert_exporter": "python",
   "pygments_lexer": "ipython3",
   "version": "3.6.7"
  }
 },
 "nbformat": 4,
 "nbformat_minor": 2
}
